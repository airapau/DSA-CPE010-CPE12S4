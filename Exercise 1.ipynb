{
  "nbformat": 4,
  "nbformat_minor": 0,
  "metadata": {
    "colab": {
      "provenance": [],
      "authorship_tag": "ABX9TyMea0IuHq2fK7XS0rjfRcYt",
      "include_colab_link": true
    },
    "kernelspec": {
      "name": "python3",
      "display_name": "Python 3"
    },
    "language_info": {
      "name": "python"
    }
  },
  "cells": [
    {
      "cell_type": "markdown",
      "metadata": {
        "id": "view-in-github",
        "colab_type": "text"
      },
      "source": [
        "<a href=\"https://colab.research.google.com/github/airapau/DSA-CPE010-CPE21S4_/blob/main/Exercise%201.ipynb\" target=\"_parent\"><img src=\"https://colab.research.google.com/assets/colab-badge.svg\" alt=\"Open In Colab\"/></a>"
      ]
    },
    {
      "cell_type": "markdown",
      "source": [
        "# **Exercise 1** (Class Constructor and Method)"
      ],
      "metadata": {
        "id": "4gOQYzVAoyHt"
      }
    },
    {
      "cell_type": "markdown",
      "source": [
        "1. Develop a Python program that computes the area of a rectangle shape\n",
        "2. Use Rectangle () as a class name\n",
        "v3. Use attributes legth and width\n",
        "4. Calculate the Area() of the rectangle\n",
        "5. Display the computed area of a rectangle\n",
        "5. Display the computed area of a rectangle\n",
        "***Note: OOP concepts of computing the area of a rectangle***\n"
      ],
      "metadata": {
        "id": "V6rNOnCwo1OL"
      }
    },
    {
      "cell_type": "code",
      "source": [
        "class Rectangle:\n",
        "  def __init__(self, length, width):\n",
        "    self.length = length\n",
        "    self.width = width\n",
        "\n",
        "    def area(self):\n",
        "      return self.length * self.width\n",
        "\n",
        "def rectangle_area():\n",
        "\n",
        "  length = float(input(\"Enter rectangle length:\"))\n",
        "  width = float(input(\"Enter rectangle width:\"))\n",
        "\n",
        "  return length * width\n",
        "\n",
        "area = rectangle_area()\n",
        "print(\"The computed area is:\", area)"
      ],
      "metadata": {
        "id": "9ij7Wa8vv3YK",
        "outputId": "b6e52c5b-a746-4799-9cd2-65c918ca908a",
        "colab": {
          "base_uri": "https://localhost:8080/"
        }
      },
      "execution_count": 41,
      "outputs": [
        {
          "output_type": "stream",
          "name": "stdout",
          "text": [
            "Enter rectangle length:88\n",
            "Enter rectangle width:88\n",
            "The computed area is: 7744.0\n"
          ]
        }
      ]
    }
  ]
}